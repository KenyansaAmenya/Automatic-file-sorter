{
 "cells": [
  {
   "cell_type": "markdown",
   "id": "ca54b467-f2a6-4e00-bc6e-10b9bd0a085e",
   "metadata": {},
   "source": [
    "# Automatic file sorter"
   ]
  },
  {
   "cell_type": "code",
   "execution_count": 4,
   "id": "f45b50fb-5e0f-4c51-aceb-1b2ce49d3db8",
   "metadata": {},
   "outputs": [],
   "source": [
    "# Import necessary libraries\n",
    "import os, shutil\n",
    "# os stands for operating stystem, shutil allows us to do high level operations on our files in file explorer "
   ]
  },
  {
   "cell_type": "code",
   "execution_count": 12,
   "id": "8c719f20-27d5-431e-957b-798e2f070774",
   "metadata": {},
   "outputs": [],
   "source": [
    "# Define the path where files need to be sorted\n",
    "# r allows us to import the path as a raw string\n",
    "\n",
    "path = r\"C:/Users/user/OneDrive/Documents/My files/\""
   ]
  },
  {
   "cell_type": "code",
   "execution_count": 22,
   "id": "5d07a532-e7f7-4a62-8215-206febf34432",
   "metadata": {},
   "outputs": [],
   "source": [
    "# Get a list of all files in the specified directory\n",
    "file_name = os.listdir(path)"
   ]
  },
  {
   "cell_type": "code",
   "execution_count": 20,
   "id": "62090232-b4c6-4a88-bbed-1a03ab73feea",
   "metadata": {},
   "outputs": [
    {
     "name": "stdout",
     "output_type": "stream",
     "text": [
      "C:/Users/user/OneDrive/Documents/My files/csv files\n",
      "C:/Users/user/OneDrive/Documents/My files/image files\n",
      "C:/Users/user/OneDrive/Documents/My files/pdf files\n"
     ]
    }
   ],
   "source": [
    "# Create folders for different file types if they don't already exist\n",
    "folder_names = ['csv files', 'image files', 'pdf files']\n",
    "\n",
    "# Loop through the folder names\n",
    "for loop in range(0,3):\n",
    "    # Check if folder doesn't exist\n",
    "    if not os.path.exists(path + folder_names[loop]):\n",
    "        # Print the path being created (for debugging/confirmation)\n",
    "        print(path + folder_names[loop])\n",
    "        # Create the directory\n",
    "        os.makedirs(path + folder_names[loop])"
   ]
  },
  {
   "cell_type": "code",
   "execution_count": 28,
   "id": "74e90058-1afa-4d3b-a809-eba9f9f7a334",
   "metadata": {},
   "outputs": [
    {
     "name": "stdout",
     "output_type": "stream",
     "text": [
      "There are files in this path that were not moved!\n",
      "There are files in this path that were not moved!\n",
      "There are files in this path that were not moved!\n",
      "There are files in this path that were not moved!\n",
      "There are files in this path that were not moved!\n",
      "There are files in this path that were not moved!\n",
      "There are files in this path that were not moved!\n"
     ]
    }
   ],
   "source": [
    "# Move files to their appropriate folders based on file extensions\n",
    "for file in file_name:\n",
    "    # Check if file is CSV and not already in destination\n",
    "    if \".csv\" in file and not os.path.exists(path + \"csv files/\" + file):\n",
    "        shutil.move(path + file, path + \"csv files/\" + file)\n",
    "    # Check if file is PNG (image) and not already in destination\n",
    "    elif \".png\" in file and not os.path.exists(path + \"image files/\" + file):\n",
    "        shutil.move(path + file, path + \"image files/\" + file)\n",
    "    # Check if file is PDF and not already in destination\n",
    "    elif \".pdf\" in file and not os.path.exists(path + \"pdf files/\" + file):\n",
    "        shutil.move(path + file, path + \"pdf files/\" + file)\n",
    "    # If file doesn't match any criteria, print a message\n",
    "    else:\n",
    "        print(\"There are files in this path that were not moved!\")"
   ]
  },
  {
   "cell_type": "code",
   "execution_count": null,
   "id": "4da65deb-9932-4ed5-8764-43d1dad8cd5f",
   "metadata": {},
   "outputs": [],
   "source": []
  },
  {
   "cell_type": "code",
   "execution_count": null,
   "id": "025de202-cec3-474b-a1e4-25c05566c31e",
   "metadata": {},
   "outputs": [],
   "source": []
  },
  {
   "cell_type": "code",
   "execution_count": null,
   "id": "ea67675f-a157-473e-86e2-da917e1808f9",
   "metadata": {},
   "outputs": [],
   "source": []
  },
  {
   "cell_type": "code",
   "execution_count": null,
   "id": "b9c208c0-66ca-4546-a92b-5ea4ed7bdb4f",
   "metadata": {},
   "outputs": [],
   "source": []
  }
 ],
 "metadata": {
  "kernelspec": {
   "display_name": "Python [conda env:base] *",
   "language": "python",
   "name": "conda-base-py"
  },
  "language_info": {
   "codemirror_mode": {
    "name": "ipython",
    "version": 3
   },
   "file_extension": ".py",
   "mimetype": "text/x-python",
   "name": "python",
   "nbconvert_exporter": "python",
   "pygments_lexer": "ipython3",
   "version": "3.12.7"
  }
 },
 "nbformat": 4,
 "nbformat_minor": 5
}
